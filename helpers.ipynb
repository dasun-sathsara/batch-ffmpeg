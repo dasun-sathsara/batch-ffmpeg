{
 "cells": [
  {
   "cell_type": "code",
   "execution_count": 22,
   "metadata": {},
   "outputs": [],
   "source": [
    "import fnmatch\n",
    "import logging\n",
    "from pathlib import Path\n",
    "from shutil import copytree\n",
    "from typing import TextIO"
   ]
  },
  {
   "cell_type": "code",
   "execution_count": 23,
   "metadata": {},
   "outputs": [],
   "source": [
    "def replicate_folder_structure(src: str, dst: str, copy_files: bool = True, exclude_file_patterns: list = []) -> None:\n",
    "    \"\"\"Replicate source folder structure.\n",
    "\n",
    "    Args:\n",
    "        src (str): Source folder\n",
    "        dst (str): Destination Folder\n",
    "        copy_files (bool, optional): If true, copies all the files from source to destination, essentially replicating the src. Defaults to True.\n",
    "        exclude_file_patterns (list, optional): Ignores files that corresponds to patterns when copying. Defaults to [].\n",
    "    \"\"\"\n",
    "\n",
    "    if not copy_files:\n",
    "        patterns = [\"*.*\"]\n",
    "    else:\n",
    "        patterns = exclude_file_patterns\n",
    "\n",
    "    def _logpath(path, names):\n",
    "        print(f\"Working in:{path}\")\n",
    "        ignored_names = []\n",
    "        for pattern in patterns:\n",
    "            ignored_names.extend(fnmatch.filter(names, pattern))\n",
    "        return set(ignored_names)\n",
    "\n",
    "    copytree(src, dst, ignore=_logpath, dirs_exist_ok=True)"
   ]
  },
  {
   "cell_type": "code",
   "execution_count": 24,
   "metadata": {},
   "outputs": [],
   "source": [
    "def get_total_size(paths: list[Path]) -> float:\n",
    "    \"\"\"Return the total tize of files in MB\"\"\"\n",
    "    total_bytes = 0\n",
    "    for path in paths:\n",
    "        total_bytes += path.stat().st_size\n",
    "\n",
    "    return round(total_bytes / 2**20, 2)\n"
   ]
  },
  {
   "cell_type": "code",
   "execution_count": null,
   "metadata": {},
   "outputs": [],
   "source": [
    "def log_stderr(fp: str, file_name: str | Path, error: str):\n",
    "    \"\"\"Append the error message (with the file name) to errors log file.\"\"\"\n",
    "\n",
    "    if isinstance(file_name, Path):\n",
    "        file_name = str(file_name)\n",
    "\n",
    "    with open(fp, \"a\", encoding=\"utf-8\") as e_file:\n",
    "        e_file.write(\"\\n\")\n",
    "        e_file.write(f\"#### {file_name} ####\")"
   ]
  },
  {
   "cell_type": "code",
   "execution_count": null,
   "metadata": {},
   "outputs": [],
   "source": [
    "def log_error_file_name(fp: str, file_name: str | Path):\n",
    "    \n",
    "    if isinstance(file_name, Path):\n",
    "        file_name = str(file_name)\n",
    "\n",
    "    with open(fp, \"a\", encoding=\"utf-8\") as e_file:\n",
    "        e_file.write(f\"{file_name}\\n\")\n"
   ]
  },
  {
   "cell_type": "code",
   "execution_count": null,
   "metadata": {},
   "outputs": [],
   "source": []
  }
 ],
 "metadata": {
  "kernelspec": {
   "display_name": "Python 3",
   "language": "python",
   "name": "python3"
  },
  "language_info": {
   "codemirror_mode": {
    "name": "ipython",
    "version": 3
   },
   "file_extension": ".py",
   "mimetype": "text/x-python",
   "name": "python",
   "nbconvert_exporter": "python",
   "pygments_lexer": "ipython3",
   "version": "3.10.7 (tags/v3.10.7:6cc6b13, Sep  5 2022, 14:08:36) [MSC v.1933 64 bit (AMD64)]"
  },
  "orig_nbformat": 4,
  "vscode": {
   "interpreter": {
    "hash": "26de051ba29f2982a8de78e945f0abaf191376122a1563185a90213a26c5da77"
   }
  }
 },
 "nbformat": 4,
 "nbformat_minor": 2
}
