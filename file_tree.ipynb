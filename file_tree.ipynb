{
 "cells": [
  {
   "cell_type": "markdown",
   "metadata": {},
   "source": [
    "`Displaying a file tree`\n"
   ]
  },
  {
   "cell_type": "code",
   "execution_count": null,
   "metadata": {},
   "outputs": [],
   "source": [
    "from pathlib import Path"
   ]
  },
  {
   "cell_type": "code",
   "execution_count": null,
   "metadata": {},
   "outputs": [],
   "source": [
    "def display_tree():\n",
    "    original = Path(\"test\")\n",
    "\n",
    "    def get_paths(directory: Path):\n",
    "        all_paths = list(Path(directory).iterdir())\n",
    "        files = list(filter(lambda x: x.is_file(), all_paths))\n",
    "        dirs = list(filter(lambda x: x.is_dir(), all_paths))\n",
    "        combined = dirs + files\n",
    "        for path in combined:\n",
    "            yield path\n",
    "\n",
    "    def inner_tree(directory: Path):\n",
    "\n",
    "        for path in get_paths(directory):\n",
    "            depth = len(directory.relative_to(original).parts)\n",
    "            spacer = '    '*depth\n",
    "            if path.is_dir():\n",
    "                print(f\"{spacer}+ {path.name}\")\n",
    "                inner_tree(path)\n",
    "            else:\n",
    "                print(f\"{spacer}+  {path.name}\")\n",
    "\n",
    "    inner_tree(original)"
   ]
  },
  {
   "cell_type": "code",
   "execution_count": null,
   "metadata": {},
   "outputs": [],
   "source": [
    "display_tree()"
   ]
  },
  {
   "cell_type": "code",
   "execution_count": null,
   "metadata": {},
   "outputs": [],
   "source": [
    "# much more simpler and intutuive version from internet \n",
    "\n",
    "def tree(directory):\n",
    "    print(f\"+ {directory}\")\n",
    "    for path in sorted(directory.rglob(\"*\")):\n",
    "        depth = len(path.relative_to(directory).parts)\n",
    "        spacer = \"    \" * depth\n",
    "        print(f\"{spacer}+ {path.name}\")"
   ]
  },
  {
   "cell_type": "code",
   "execution_count": null,
   "metadata": {},
   "outputs": [],
   "source": [
    "tree(Path('test'))"
   ]
  }
 ],
 "metadata": {
  "kernelspec": {
   "display_name": "Python 3",
   "language": "python",
   "name": "python3"
  },
  "language_info": {
   "codemirror_mode": {
    "name": "ipython",
    "version": 3
   },
   "file_extension": ".py",
   "mimetype": "text/x-python",
   "name": "python",
   "nbconvert_exporter": "python",
   "pygments_lexer": "ipython3",
   "version": "3.10.7 (tags/v3.10.7:6cc6b13, Sep  5 2022, 14:08:36) [MSC v.1933 64 bit (AMD64)]"
  },
  "orig_nbformat": 4,
  "vscode": {
   "interpreter": {
    "hash": "26de051ba29f2982a8de78e945f0abaf191376122a1563185a90213a26c5da77"
   }
  }
 },
 "nbformat": 4,
 "nbformat_minor": 2
}
