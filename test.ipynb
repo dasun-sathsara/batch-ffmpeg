{
 "cells": [
  {
   "cell_type": "code",
   "execution_count": null,
   "metadata": {},
   "outputs": [],
   "source": [
    "from datetime import datetime\n",
    "from pathlib import Path\n"
   ]
  },
  {
   "cell_type": "code",
   "execution_count": null,
   "metadata": {},
   "outputs": [],
   "source": [
    "path = Path(\"file_tree.ipynb\")\n",
    "stats = path.stat()\n",
    "c_time = datetime.fromtimestamp(path.stat().st_ctime)\n",
    "print(c_time)\n"
   ]
  },
  {
   "cell_type": "code",
   "execution_count": null,
   "metadata": {},
   "outputs": [],
   "source": [
    "size = stats.st_size\n",
    "print(f\"{round(size / 2**10, 3)} KB\")\n"
   ]
  },
  {
   "cell_type": "code",
   "execution_count": null,
   "metadata": {},
   "outputs": [],
   "source": [
    "def replicate_folder_structure(directory: Path | str, new_directory: str | None = None) -> None:\n",
    "    if not isinstance(directory, Path):\n",
    "        directory = Path(directory)\n",
    "\n",
    "    if new_directory is None:\n",
    "        new_directory = directory.name + \"_replicated\"\n",
    "\n",
    "    for folder_path in filter(lambda x: x.is_dir(), list(directory.glob(\"**\"))):\n",
    "        new_path = Path(new_directory, *folder_path.parts[1:])\n",
    "        new_path.mkdir(exist_ok=True, parents=True)"
   ]
  },
  {
   "cell_type": "code",
   "execution_count": null,
   "metadata": {},
   "outputs": [],
   "source": [
    "def replicate_files(exclude: list) -> None:\n",
    "    for ext in exclude:\n",
    "        if not \".\" in ext:\n",
    "            ..."
   ]
  },
  {
   "cell_type": "code",
   "execution_count": null,
   "metadata": {},
   "outputs": [],
   "source": [
    "from shutil import copytree, ignore_patterns\n",
    "\n",
    "copytree(\"test\", \"test2\", ignore=ignore_patterns(\"tmp*\"), dirs_exist_ok=True)"
   ]
  },
  {
   "cell_type": "code",
   "execution_count": null,
   "metadata": {},
   "outputs": [],
   "source": [
    "import fnmatch\n",
    "import logging\n",
    "from shutil import copytree\n",
    "\n",
    "\n",
    "def _logpath(path, names):\n",
    "    print(f\"Working in {path}\")\n",
    "    ignored_names = []\n",
    "    for pattern in [\"*.exe\", \"*.zip\", \"*.txt\"]:\n",
    "        ignored_names.extend(fnmatch.filter(names, pattern))\n",
    "    return set(ignored_names)\n",
    "\n",
    "\n",
    "copytree(\"test\", \"test22\", ignore=_logpath, dirs_exist_ok=True)"
   ]
  },
  {
   "cell_type": "code",
   "execution_count": null,
   "metadata": {},
   "outputs": [],
   "source": [
    "replicate_folder_structure(\"test\", \"Converted\")\n"
   ]
  },
  {
   "cell_type": "markdown",
   "metadata": {},
   "source": [
    "`subprocess module`\n"
   ]
  },
  {
   "cell_type": "code",
   "execution_count": null,
   "metadata": {},
   "outputs": [],
   "source": [
    "from subprocess import run, CalledProcessError\n",
    "from tempfile import TemporaryFile\n",
    "from pathlib import Path\n",
    "\n",
    "file = Path(\"daemon.mp4\")\n",
    "output = Path(file.stem + \"_encoded.mp4\")\n",
    "\n",
    "stderr = TemporaryFile()\n",
    "try:\n",
    "    cp = run([\"ffmpeg\", \"-i\", file.name, \"-y\", \"-o\", output.name], stderr=stderr, check=True, encoding=\"utf-8\")\n",
    "except CalledProcessError:\n",
    "    stderr.seek(0)\n",
    "    str_stderr = stderr.read().decode(\"utf-8\")\n",
    "finally:\n",
    "    stderr.close()"
   ]
  }
 ],
 "metadata": {
  "kernelspec": {
   "display_name": "Python 3",
   "language": "python",
   "name": "python3"
  },
  "language_info": {
   "codemirror_mode": {
    "name": "ipython",
    "version": 3
   },
   "file_extension": ".py",
   "mimetype": "text/x-python",
   "name": "python",
   "nbconvert_exporter": "python",
   "pygments_lexer": "ipython3",
   "version": "3.10.7 (tags/v3.10.7:6cc6b13, Sep  5 2022, 14:08:36) [MSC v.1933 64 bit (AMD64)]"
  },
  "orig_nbformat": 4,
  "vscode": {
   "interpreter": {
    "hash": "26de051ba29f2982a8de78e945f0abaf191376122a1563185a90213a26c5da77"
   }
  }
 },
 "nbformat": 4,
 "nbformat_minor": 2
}
